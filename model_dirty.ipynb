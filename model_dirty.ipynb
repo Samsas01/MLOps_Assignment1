{
 "cells": [
  {
   "cell_type": "code",
   "execution_count": 14,
   "metadata": {},
   "outputs": [],
   "source": [
    "import pandas as pd\n",
    "import numpy as np\n",
    "import matplotlib.pyplot as plt"
   ]
  },
  {
   "cell_type": "code",
   "execution_count": 15,
   "metadata": {},
   "outputs": [],
   "source": [
    "TARGET_COL = 'Quantity'"
   ]
  },
  {
   "cell_type": "markdown",
   "metadata": {},
   "source": [
    "## Data load & Preprocess"
   ]
  },
  {
   "cell_type": "code",
   "execution_count": 16,
   "metadata": {},
   "outputs": [],
   "source": [
    "dirty_data = pd.read_csv(\"data/dirty_dataset.csv\")\n",
    "\n",
    "dirty_data['Quantity'] = dirty_data['Quantity'].map(lambda x: x.replace(\"_\",\"\") if isinstance(x,str) else x).astype(float)\n",
    "dirty_data['UnitPrice'] = dirty_data['UnitPrice'].map(lambda x: x.replace(\"_\",\"\") if isinstance(x,str) else x).astype(float)\n",
    "dirty_data.loc[(dirty_data['Quantity'] < 0) | (dirty_data['UnitPrice'] < 0)] = np.nan\n",
    "\n",
    "dirty_data_std = dirty_data[['UnitPrice','Quantity']].std()\n",
    "dirty_data_mean = dirty_data[['UnitPrice','Quantity']].mean()\n",
    "\n",
    "dirty_data.loc[\n",
    "    (np.abs(dirty_data['Quantity']- dirty_data_mean['Quantity']) > dirty_data_std['Quantity'] * 3) | \n",
    "    (np.abs(dirty_data['UnitPrice']- dirty_data_mean['UnitPrice']) > dirty_data_std['UnitPrice'] * 3)\n",
    "    ] = np.nan\n",
    "\n",
    "dirty_data.loc[\n",
    "    (dirty_data.isnull().sum(axis = 1) > 1) |\n",
    "    (dirty_data[['Quantity','UnitPrice']].isnull().sum(axis = 1) == 2)\n",
    "    ] = np.nan\n",
    "\n",
    "dirty_data.dropna(how = 'all', inplace = True)\n",
    "dirty_data[['Quantity','UnitPrice']] = dirty_data[['Quantity','UnitPrice']].fillna(dirty_data[['Quantity','UnitPrice']].mean())\n",
    "dirty_data.dropna(inplace = True)"
   ]
  },
  {
   "cell_type": "code",
   "execution_count": 17,
   "metadata": {},
   "outputs": [],
   "source": [
    "dirty_data['StockCode'] = dirty_data['StockCode'].astype('category')\n",
    "dirty_data['Country'] = dirty_data['Country'].astype('category')\n",
    "dirty_data['InvoiceDate'] = pd.to_datetime(dirty_data['InvoiceDate'])\n",
    "dirty_data['year'] = dirty_data['InvoiceDate'].dt.year\n",
    "dirty_data['month'] = dirty_data['InvoiceDate'].dt.month\n",
    "dirty_data['weekdays'] = dirty_data['InvoiceDate'].dt.weekday\n",
    "dirty_data.drop([\"Description\",\"InvoiceDate\",\"InvoiceNo\",\"StockCode\"], axis = 1, inplace = True)\n",
    "\n",
    "dirty_data = pd.get_dummies(dirty_data, columns = ['Country','weekdays','month','year'], drop_first = True)"
   ]
  },
  {
   "cell_type": "markdown",
   "metadata": {},
   "source": [
    "## Model"
   ]
  },
  {
   "cell_type": "code",
   "execution_count": 18,
   "metadata": {},
   "outputs": [],
   "source": [
    "from sklearn.model_selection import train_test_split, cross_val_score, RepeatedKFold\n",
    "from sklearn.ensemble import RandomForestRegressor\n",
    "\n",
    "Y = dirty_data[TARGET_COL]\n",
    "X = dirty_data.drop(TARGET_COL, axis = 1)\n",
    "train_X, test_X, train_Y, test_Y = train_test_split(X, Y, train_size = 0.7)"
   ]
  },
  {
   "cell_type": "code",
   "execution_count": 19,
   "metadata": {},
   "outputs": [
    {
     "data": {
      "text/plain": [
       "RandomForestRegressor()"
      ]
     },
     "execution_count": 19,
     "metadata": {},
     "output_type": "execute_result"
    }
   ],
   "source": [
    "dirty_model = RandomForestRegressor()\n",
    "dirty_model.fit(train_X, train_Y)"
   ]
  },
  {
   "cell_type": "code",
   "execution_count": 22,
   "metadata": {},
   "outputs": [],
   "source": [
    "from sklearn.metrics import explained_variance_score,mean_absolute_error,mean_squared_error\n",
    "pred_Y = dirty_model.predict(test_X)"
   ]
  },
  {
   "cell_type": "code",
   "execution_count": 30,
   "metadata": {},
   "outputs": [
    {
     "name": "stdout",
     "output_type": "stream",
     "text": [
      "R2  = 0.16854219429846984 \n",
      "MAE = 7.288252156823835 \n",
      "MSE = 1883.4718876875804\n"
     ]
    }
   ],
   "source": [
    "R2 = explained_variance_score(test_Y, pred_Y)\n",
    "MAE = mean_absolute_error(test_Y, pred_Y)\n",
    "MSE = mean_squared_error(test_Y, pred_Y)\n",
    "print(f\"{R2  = } \\n{MAE = } \\n{MSE = }\")"
   ]
  },
  {
   "cell_type": "code",
   "execution_count": null,
   "metadata": {},
   "outputs": [],
   "source": []
  }
 ],
 "metadata": {
  "kernelspec": {
   "display_name": "Python 3.9.7 ('base')",
   "language": "python",
   "name": "python3"
  },
  "language_info": {
   "codemirror_mode": {
    "name": "ipython",
    "version": 3
   },
   "file_extension": ".py",
   "mimetype": "text/x-python",
   "name": "python",
   "nbconvert_exporter": "python",
   "pygments_lexer": "ipython3",
   "version": "3.9.7"
  },
  "orig_nbformat": 4,
  "vscode": {
   "interpreter": {
    "hash": "566697b7f193b8143235b25529b227a6d3674b5851155e2329c983beb4bbba4d"
   }
  }
 },
 "nbformat": 4,
 "nbformat_minor": 2
}
